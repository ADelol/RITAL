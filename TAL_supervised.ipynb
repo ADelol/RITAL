{
 "cells": [
  {
   "cell_type": "code",
   "execution_count": 12,
   "metadata": {},
   "outputs": [],
   "source": [
    "import numpy as np\n",
    "import codecs\n",
    "import re"
   ]
  },
  {
   "cell_type": "code",
   "execution_count": 13,
   "metadata": {},
   "outputs": [],
   "source": [
    "#Prepare training data\n",
    "fname = './president/corpus.tache1.learn.utf8'\n",
    "f=codecs.open(fname, 'r','utf-8') # pour régler le codage\n",
    "txts=f.readlines()\n",
    "nblignes=len(txts)\n",
    "\n",
    "#cptM= 0\n",
    "#cptC=0\n",
    "labels = [] # M:0, C:1\n",
    "trainData = []\n",
    "for t in txts:\n",
    "    label = re.sub(r\"<[0-9]*:[0-9]*:(.)>.*\",\"\\\\1\",t)\n",
    "    txt = re.sub(r\"<[0-9]*:[0-9]*:.> (.*)\",\"\\\\1\",t)\n",
    "    \n",
    "    trainData.append(txt)   \n",
    "    \n",
    "    if label[0]==\"C\":\n",
    "        #cptC+=1\n",
    "        labels.append(1)\n",
    "    else:\n",
    "        #cptM +=1\n",
    "        labels.append(0)\n",
    "    \n",
    "f.close()"
   ]
  },
  {
   "cell_type": "code",
   "execution_count": 14,
   "metadata": {},
   "outputs": [],
   "source": [
    "from sklearn import model_selection\n",
    "\n",
    "Train_X, Test_X, Train_Y, Test_Y = model_selection.train_test_split(trainData,labels,test_size=0.3,random_state=1)"
   ]
  },
  {
   "cell_type": "code",
   "execution_count": 15,
   "metadata": {},
   "outputs": [],
   "source": [
    "from sklearn.preprocessing import LabelEncoder\n",
    "from sklearn.feature_extraction.text import TfidfVectorizer\n",
    "from sklearn.metrics import accuracy_score\n",
    "from nltk.corpus import stopwords\n",
    "import nltk\n",
    "\n",
    "\n",
    "Encoder = LabelEncoder()\n",
    "Train_Y = Encoder.fit_transform(Train_Y)\n",
    "Test_Y = Encoder.fit_transform(Test_Y)\n",
    "\n",
    "#Tfidf_vect = TfidfVectorizer(max_features=5000)\n",
    "list_stopwords = stopwords.words('french')\n",
    "Tfidf_vect = TfidfVectorizer(stop_words=list_stopwords,ngram_range=(1,2))\n",
    "Tfidf_vect.fit_transform(trainData)\n",
    "Train_X_Tfidf = Tfidf_vect.transform(Train_X)\n",
    "Test_X_Tfidf = Tfidf_vect.transform(Test_X)"
   ]
  },
  {
   "cell_type": "code",
   "execution_count": 17,
   "metadata": {},
   "outputs": [
    {
     "name": "stdout",
     "output_type": "stream",
     "text": [
      "0.9387033646865728\n"
     ]
    }
   ],
   "source": [
    "#without Hyper-parameter Tuning\n",
    "from sklearn.metrics import f1_score\n",
    "from sklearn.svm import SVC\n",
    "\n",
    "SVM = SVC(C=1.0, kernel='linear', degree=3, gamma='auto',class_weight={1: 6.6})\n",
    "SVM.fit(Train_X_Tfidf,Train_Y)# predict the labels on validation dataset\n",
    "predictions_SVM = SVM.predict(Test_X_Tfidf)# Use accuracy_score function to get the accuracy\n",
    "\n",
    "#print(\"SVM Accuracy Score -> \",accuracy_score(predictions_SVM, Test_Y)*100)\n",
    "print(f1_score(Test_Y,predictions_SVM))"
   ]
  },
  {
   "cell_type": "code",
   "execution_count": 24,
   "metadata": {},
   "outputs": [
    {
     "name": "stdout",
     "output_type": "stream",
     "text": [
      "[1 1 1 ... 1 1 1]\n"
     ]
    }
   ],
   "source": [
    "fname = './president/corpus.tache1.test.utf8'\n",
    "s=codecs.open(fname, 'r','utf-8') # pour régler le codage\n",
    "lignes_test=s.readlines()\n",
    "\n",
    "nblignes = len(lignes_test)\n",
    "test = []\n",
    "for txt in lignes_test:\n",
    "    txt = re.sub(r\"<[0-9]*:[0-9]*> (.*)\",\"\\\\1\",txt)\n",
    "    test.append(txt)\n",
    "    \n",
    "Train_X_Tfidf_test = Tfidf_vect.transform(test)\n",
    "prediction = SVM.predict(Train_X_Tfidf_test)\n",
    "\n",
    "#print(prediction)"
   ]
  },
  {
   "cell_type": "code",
   "execution_count": 30,
   "metadata": {},
   "outputs": [],
   "source": [
    "#Post-processing\n",
    "prediction_post=[]\n",
    "for i in range(1,len(prediction)-1):\n",
    "    if prediction[i] != prediction[i-1] and prediction[i] != prediction[i+1]:\n",
    "        prediction_post.append(prediction[i-1])\n",
    "    else:\n",
    "        prediction_post.append(prediction[i])\n",
    "\n",
    "\n",
    "res_file = \"./SVM/predictionPolitique.txt\"\n",
    "f=open(res_file,'w')\n",
    "for p in prediction_post:\n",
    "    if p==1:\n",
    "        f.write(str('C')+\"\\n\")\n",
    "    else:\n",
    "        f.write(str('M')+\"\\n\")\n",
    "            \n",
    "f.close()\n"
   ]
  },
  {
   "cell_type": "code",
   "execution_count": null,
   "metadata": {},
   "outputs": [],
   "source": [
    "#############################################################################################################################################"
   ]
  },
  {
   "cell_type": "code",
   "execution_count": 31,
   "metadata": {},
   "outputs": [
    {
     "name": "stdout",
     "output_type": "stream",
     "text": [
      "neg\n",
      "pos\n"
     ]
    }
   ],
   "source": [
    "import os.path\n",
    "def readAFile(path):\n",
    "    text_file = open(path, \"r\")\n",
    "    lines = text_file.read()\n",
    "    return lines\n",
    "    \n",
    "path = \"./movies/movies1000/\"\n",
    "\n",
    "alltxts_movie = [] # init vide\n",
    "labs_movie = []\n",
    "cpt = 0\n",
    "for cl in os.listdir(path): # parcours des fichiers d'un répertoire\n",
    "    for f in os.listdir(path+cl):\n",
    "        txt = readAFile(path+cl+'/'+f)\n",
    "        alltxts_movie.append(txt)\n",
    "        labs_movie.append(cpt) # 0 pour neg et 1 pour pos\n",
    "    cpt += 1\n",
    "    #print(len(alltxts_movie))\n",
    "#print(len(alltxts_movie))"
   ]
  },
  {
   "cell_type": "code",
   "execution_count": 32,
   "metadata": {},
   "outputs": [],
   "source": [
    "Train_X_movie, Test_X_movie, Train_Y_movie, Test_Y_movie = model_selection.train_test_split(alltxts_movie,labs_movie,test_size=0.3,random_state=1)"
   ]
  },
  {
   "cell_type": "code",
   "execution_count": 33,
   "metadata": {},
   "outputs": [],
   "source": [
    "Encoder_movie = LabelEncoder()\n",
    "Train_Y_movie = Encoder_movie.fit_transform(Train_Y_movie)\n",
    "Test_Y_movie = Encoder_movie.fit_transform(Test_Y_movie)\n",
    "\n",
    "list_stopwords_english = stopwords.words('english')\n",
    "Tfidf_vect_movie = TfidfVectorizer(stop_words=list_stopwords_english,ngram_range=(1,2))\n",
    "Tfidf_vect_movie.fit_transform(alltxts_movie)\n",
    "Train_X_Tfidf_movie = Tfidf_vect_movie.transform(Train_X_movie)\n",
    "Test_X_Tfidf_movie = Tfidf_vect_movie.transform(Test_X_movie)"
   ]
  },
  {
   "cell_type": "code",
   "execution_count": 34,
   "metadata": {},
   "outputs": [
    {
     "name": "stdout",
     "output_type": "stream",
     "text": [
      "0.8177339901477834\n"
     ]
    }
   ],
   "source": [
    "SVM_movie = SVC(C=1.0, kernel='linear', degree=3, gamma='auto',class_weight='balanced')\n",
    "SVM_movie.fit(Train_X_Tfidf_movie,Train_Y_movie)# predict the labels on validation dataset\n",
    "predictions_SVM_movie = SVM_movie.predict(Test_X_Tfidf_movie)# Use accuracy_score function to get the accuracy\n",
    "\n",
    "print(f1_score(Test_Y_movie,predictions_SVM_movie))"
   ]
  },
  {
   "cell_type": "code",
   "execution_count": null,
   "metadata": {},
   "outputs": [],
   "source": []
  },
  {
   "cell_type": "code",
   "execution_count": null,
   "metadata": {},
   "outputs": [],
   "source": []
  },
  {
   "cell_type": "code",
   "execution_count": 37,
   "metadata": {},
   "outputs": [],
   "source": [
    "#Recuperation \n",
    "#Prediction du fichier test avec une ligne = 1 avis\n",
    "f=open(\"./movies/testSentiment.txt\",'r',encoding=\"utf8\")\n",
    "test_movies = f.readlines()\n",
    "f.close()"
   ]
  },
  {
   "cell_type": "code",
   "execution_count": 38,
   "metadata": {},
   "outputs": [],
   "source": [
    "Train_X_Tfidf_test_movie = Tfidf_vect_movie.transform(test_movies)\n",
    "prediction_test_movie = SVM_movie.predict(Train_X_Tfidf_test_movie)"
   ]
  },
  {
   "cell_type": "code",
   "execution_count": 41,
   "metadata": {},
   "outputs": [],
   "source": [
    "#pos==1=='C', neg==0=='M'\n",
    "sortie = \"./SVM/predictionMovies.txt\"\n",
    "f=open(sortie,'w')\n",
    "for p in prediction_test_movie:\n",
    "    if p==1:\n",
    "        f.write(str('C')+\"\\n\")\n",
    "    else:\n",
    "        f.write(str('M')+\"\\n\")\n",
    "f.close()"
   ]
  },
  {
   "cell_type": "code",
   "execution_count": null,
   "metadata": {},
   "outputs": [],
   "source": []
  }
 ],
 "metadata": {
  "kernelspec": {
   "display_name": "Python 3",
   "language": "python",
   "name": "python3"
  },
  "language_info": {
   "codemirror_mode": {
    "name": "ipython",
    "version": 3
   },
   "file_extension": ".py",
   "mimetype": "text/x-python",
   "name": "python",
   "nbconvert_exporter": "python",
   "pygments_lexer": "ipython3",
   "version": "3.7.4"
  }
 },
 "nbformat": 4,
 "nbformat_minor": 4
}
